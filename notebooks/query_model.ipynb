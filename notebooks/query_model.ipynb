{
 "cells": [
  {
   "cell_type": "markdown",
   "metadata": {},
   "source": [
    "# Query Model\n",
    "\n",
    "Use the model to predict the outcome of a new patient.\n",
    "Patients from the test set are drawn at random.\n",
    "\n",
    "Before running this notebook, you need to either start the flask server:\n",
    "\n",
    "```bash\n",
    "python scripts/predict.py\n",
    "```\n",
    "\n",
    "or build the docker image and run the container:\n",
    "\n",
    "```bash\n",
    "docker build -t diabetes_readmission .\n",
    "docker run -p 9696:9696 diabetes_readmission\n",
    "```"
   ]
  },
  {
   "cell_type": "code",
   "execution_count": 1,
   "metadata": {},
   "outputs": [
    {
     "name": "stdout",
     "output_type": "stream",
     "text": [
      "Features: {'time_in_hospital': 0.4162896638551851, 'num_lab_procedures': 0.4499925682277403, 'num_procedures': 0.0, 'num_medications': 0.6005433756755866, 'number_outpatient': 0.0, 'number_emergency': 0.0, 'number_inpatient': 0.0, 'number_diagnoses': 0.7924812503553146, 'change': 1.0, 'diabetesmed': 1.0, 'race_africanamerican': 0.0, 'race_asian': 0.0, 'race_caucasian': 0.0, 'race_hispanic': 0.0, 'race_other': 1.0, 'gender_female': 0.0, 'gender_male': 1.0, 'age_70+': 1.0, 'age_[0_10)': 0.0, 'age_[10_20)': 0.0, 'age_[20_50)': 0.0, 'age_[50_70)': 0.0, 'admission_type_id_elective': 0.0, 'admission_type_id_emergency': 1.0, 'admission_type_id_new born': 0.0, 'admission_type_id_trauma center': 0.0, 'discharge_disposition_id_discharged to home': 1.0, 'discharge_disposition_id_other': 0.0, 'admission_source_id_emergency': 0.0, 'admission_source_id_other': 0.0, 'admission_source_id_referral': 1.0, 'admission_source_id_transfer': 0.0, 'medical_specialty_cardiology': 0.0, 'medical_specialty_emergency/trauma': 0.0, 'medical_specialty_family/generalpractice': 0.0, 'medical_specialty_gastroenterology': 0.0, 'medical_specialty_hematology/oncology': 0.0, 'medical_specialty_internalmedicine': 0.0, 'medical_specialty_nephrology': 0.0, 'medical_specialty_obstetricsandgynecology': 0.0, 'medical_specialty_orthopedics': 0.0, 'medical_specialty_other': 0.0, 'medical_specialty_psychiatry': 0.0, 'medical_specialty_pulmonology': 0.0, 'medical_specialty_radiology': 0.0, 'medical_specialty_surgery_cardiovascular/thoracic': 0.0, 'medical_specialty_surgery_general': 0.0, 'medical_specialty_urology': 0.0, 'diag_1_circulatory': 0.0, 'diag_1_diabetes': 0.0, 'diag_1_digestive': 0.0, 'diag_1_genitourinary': 0.0, 'diag_1_infectious': 0.0, 'diag_1_injury': 0.0, 'diag_1_mental': 0.0, 'diag_1_musculoskeletal': 0.0, 'diag_1_neoplasms': 0.0, 'diag_1_non_diabetes endocrine/metabolic': 0.0, 'diag_1_other': 0.0, 'diag_1_respiratory': 1.0, 'diag_1_skin': 0.0, 'diag_2_circulatory': 0.0, 'diag_2_diabetes': 0.0, 'diag_2_digestive': 0.0, 'diag_2_genitourinary': 0.0, 'diag_2_infectious': 0.0, 'diag_2_injury': 0.0, 'diag_2_mental': 0.0, 'diag_2_musculoskeletal': 0.0, 'diag_2_neoplasms': 0.0, 'diag_2_non_diabetes endocrine/metabolic': 0.0, 'diag_2_other': 0.0, 'diag_2_respiratory': 1.0, 'diag_2_skin': 0.0, 'diag_3_circulatory': 0.0, 'diag_3_diabetes': 0.0, 'diag_3_digestive': 0.0, 'diag_3_genitourinary': 0.0, 'diag_3_infectious': 0.0, 'diag_3_injury': 0.0, 'diag_3_mental': 0.0, 'diag_3_musculoskeletal': 0.0, 'diag_3_neoplasms': 0.0, 'diag_3_non_diabetes endocrine/metabolic': 0.0, 'diag_3_other': 1.0, 'diag_3_respiratory': 0.0, 'diag_3_skin': 0.0, 'metformin_down': 0.0, 'metformin_no': 0.0, 'metformin_steady': 1.0, 'metformin_up': 0.0, 'repaglinide_down': 0.0, 'repaglinide_no': 1.0, 'repaglinide_steady': 0.0, 'repaglinide_up': 0.0, 'nateglinide_down': 0.0, 'nateglinide_no': 1.0, 'nateglinide_steady': 0.0, 'nateglinide_up': 0.0, 'chlorpropamide_down': 0.0, 'chlorpropamide_no': 1.0, 'chlorpropamide_steady': 0.0, 'chlorpropamide_up': 0.0, 'glimepiride_down': 0.0, 'glimepiride_no': 1.0, 'glimepiride_steady': 0.0, 'glimepiride_up': 0.0, 'glipizide_down': 0.0, 'glipizide_no': 1.0, 'glipizide_steady': 0.0, 'glipizide_up': 0.0, 'glyburide_down': 0.0, 'glyburide_no': 1.0, 'glyburide_steady': 0.0, 'glyburide_up': 0.0, 'pioglitazone_down': 0.0, 'pioglitazone_no': 0.0, 'pioglitazone_steady': 1.0, 'pioglitazone_up': 0.0, 'rosiglitazone_down': 0.0, 'rosiglitazone_no': 1.0, 'rosiglitazone_steady': 0.0, 'rosiglitazone_up': 0.0, 'acarbose_down': 0.0, 'acarbose_no': 1.0, 'acarbose_steady': 0.0, 'acarbose_up': 0.0, 'miglitol_down': 0.0, 'miglitol_no': 1.0, 'miglitol_steady': 0.0, 'miglitol_up': 0.0, 'tolazamide_no': 1.0, 'tolazamide_steady': 0.0, 'tolazamide_up': 0.0, 'insulin_down': 0.0, 'insulin_no': 0.0, 'insulin_steady': 1.0, 'insulin_up': 0.0, 'glyburide_metformin_down': 0.0, 'glyburide_metformin_no': 1.0, 'glyburide_metformin_steady': 0.0, 'glyburide_metformin_up': 0.0, 'a1cresult_>7': 0.0, 'a1cresult_>8': 0.0, 'a1cresult_none': 1.0, 'a1cresult_norm': 0.0, 'max_glu_serum_>200': 0.0, 'max_glu_serum_>300': 0.0, 'max_glu_serum_none': 1.0, 'max_glu_serum_norm': 0.0}\n",
      "Label: readmitted    0\n",
      "Name: 9839, dtype: int64\n"
     ]
    }
   ],
   "source": [
    "# dependencies\n",
    "import requests\n",
    "import pandas as pd\n",
    "import numpy as np\n",
    "from pathlib import Path\n",
    "# API endpoint\n",
    "URL = \"http://localhost:9696/predict\"\n",
    "\n",
    "# paths\n",
    "PATH_DATA = Path(\"../data/processed\")\n",
    "PATH_TEST = PATH_DATA / \"test\"\n",
    "\n",
    "# load test data\n",
    "X_test = pd.read_csv(PATH_TEST / \"X_test.csv\")\n",
    "y_test = pd.read_csv(PATH_TEST / \"y_test.csv\")\n",
    "\n",
    "# get a test case including label\n",
    "patient_index = np.random.randint(0, len(X_test))\n",
    "test_case = {\n",
    "    \"features\": X_test.iloc[patient_index].to_dict(),\n",
    "    \"label\": y_test.iloc[patient_index]\n",
    "}\n",
    "\n",
    "# display the test case\n",
    "print(f\"Features: {test_case['features']}\")\n",
    "print(f\"Label: {test_case['label']}\")"
   ]
  },
  {
   "cell_type": "code",
   "execution_count": 2,
   "metadata": {},
   "outputs": [],
   "source": [
    "def make_prediction(test_case):\n",
    "    \"\"\"\n",
    "    Make a prediction for a test case and print the results.\n",
    "    \"\"\"\n",
    "    \n",
    "    # make prediction\n",
    "    response = requests.post(URL, json=test_case[\"features\"])\n",
    "    \n",
    "    # get true label\n",
    "    true_label = (\n",
    "        \"readmitted\" if test_case[\"label\"].values[0] == 1 \n",
    "        else \"not_readmitted\"\n",
    "    )\n",
    "    \n",
    "    # check if prediction is correct\n",
    "    if response.json()['predicted_outcome'] == true_label:\n",
    "        message = \"Nice, the prediction is correct!\"\n",
    "    else:\n",
    "        message = \"Gah, the prediction is incorrect! We're sorry!\"\n",
    "    \n",
    "    # print prediction\n",
    "    print(\n",
    "        f\"Predicted outcome: \"\n",
    "        f\"{response.json()['predicted_outcome'].replace('_', ' ')} \" \n",
    "        f\"(Probability: \"\n",
    "        f\"{response.json()['predicted_probability'][0][1]:.4f})\\n\"\n",
    "        f\"Real outcome: {true_label.replace('_', ' ')}\\n\"\n",
    "        f\"{message}\"\n",
    "    )"
   ]
  },
  {
   "cell_type": "code",
   "execution_count": 3,
   "metadata": {},
   "outputs": [
    {
     "name": "stdout",
     "output_type": "stream",
     "text": [
      "Predicted outcome: not readmitted (Probability: 0.4289)\n",
      "Real outcome: not readmitted\n",
      "Nice, the prediction is correct!\n"
     ]
    }
   ],
   "source": [
    "# make prediction\n",
    "make_prediction(test_case)"
   ]
  }
 ],
 "metadata": {
  "kernelspec": {
   "display_name": "diabetes_readmission",
   "language": "python",
   "name": "python3"
  },
  "language_info": {
   "codemirror_mode": {
    "name": "ipython",
    "version": 3
   },
   "file_extension": ".py",
   "mimetype": "text/x-python",
   "name": "python",
   "nbconvert_exporter": "python",
   "pygments_lexer": "ipython3",
   "version": "3.13.1"
  }
 },
 "nbformat": 4,
 "nbformat_minor": 2
}
